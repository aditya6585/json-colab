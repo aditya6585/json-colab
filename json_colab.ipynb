{
  "nbformat": 4,
  "nbformat_minor": 0,
  "metadata": {
    "colab": {
      "provenance": []
    },
    "kernelspec": {
      "name": "python3",
      "display_name": "Python 3"
    },
    "language_info": {
      "name": "python"
    }
  },
  "cells": [
    {
      "cell_type": "code",
      "source": [
        "import pandas as pd\n",
        "url = '/content/DataEngineeringQ2.json'\n",
        "df = pd.read_json(url)\n",
        "print(df)\n"
      ],
      "metadata": {
        "colab": {
          "base_uri": "https://localhost:8080/"
        },
        "id": "Q4_k_vNkREYF",
        "outputId": "395e9abf-f847-40c3-8923-17fd42a81940"
      },
      "execution_count": 11,
      "outputs": [
        {
          "output_type": "stream",
          "name": "stdout",
          "text": [
            "         _id appointmentId                                     patientDetails  \\\n",
            "0   T6hf3rb5     40d2-9c9f  {'_id': 'T6hb630b3', 'firstName': 'Css', 'last...   \n",
            "1   T65g3rb5      40dbtc9f  {'_id': 'T6h33b300', 'firstName': 'Lokesh', 'l...   \n",
            "2   T7g6Srb5      g3Wt5c9f  {'_id': 'TjhB4373', 'phrId': '63b5hvy614d5', '...   \n",
            "3   94bg8W8d      fb6-a535  {'_id': '6df4R5b', 'phrId': '644nig7y', 'first...   \n",
            "4   T6h8H56c       67h7KL9  {'_id': 'lK9hy06a', 'firstName': 'Raghu Viju',...   \n",
            "5    T9Jh8c8        Hy7Y91  {'_id': 'kI9d5c6', 'firstName': 'Dinesh Kumar'...   \n",
            "6   9Is624b9     10dY8a-4a  {'_id': 'i9R324b7', 'phrId': '67Yt2b97', 'firs...   \n",
            "7   T8H9c3c6      e8056Ye8  {'_id': 'T6h41b5ad3d8002ad9c3c4', 'firstName':...   \n",
            "8    T8Ud380     dbc0-c66b  {'_id': 'T9Iy347e', 'firstName': 'Dinesh', 'la...   \n",
            "9    T345fG4        1576a7  {'_id': 'T4Rb1a2', 'firstName': 'Sanjay', 'las...   \n",
            "10  T4F6a175       b6Te4ac  {'_id': 'Tr4T2173', 'phrId': '6E48U79', 'first...   \n",
            "11   TW3r002        bu5Qfb  {'_id': 'T6Wa50', 'firstName': 'Nirmala', 'las...   \n",
            "12   6U6Ra36       86U8Y45  {'_id': '65sRa36', 'firstName': 'Satish', 'las...   \n",
            "13   u7Y7Aa5       Ufd7231  {'_id': 'UG67231', 'phrId': 'T6a7231', 'firstN...   \n",
            "14   T3R5dec       E4u5Ea2  {'_id': 'E4u5Ea2', 'firstName': 'Satyanaaryan'...   \n",
            "15   T4E7Ge6      T4E3e410  {'_id': 'T4E7Ge6', 'firstName': 'Nivitha', 'la...   \n",
            "16  E5336545       04Re22d  {'_id': '04Re22d', 'firstName': 'Tejpal', 'las...   \n",
            "17   T7Ys58b      af9784hf  {'_id': 'u7dWa589', 'firstName': 'Nandhini', '...   \n",
            "18  Y874Us5w       I8eW201  {'_id': 'TU7e913', 'firstName': 'Dhanamma', 'l...   \n",
            "19   Y7s5G42     f7r501cb1  {'_id': 'H8s2d40', 'firstName': 'Kushal', 'las...   \n",
            "20  Y7eE5cd8    cf092c8t6c  {'_id': 'u9cd6', 'phrId': '6463U8s231', 'first...   \n",
            "21   I9984e8      O02n262e  {'_id': 'Pdh97S6', 'phrId': 'Jus0480', 'firstN...   \n",
            "22  Tu78a783      5dfN9s41  {'_id': 'h02U8a781', 'firstName': 'Preethi', '...   \n",
            "23   U9D2w6c      cc86re0f  {'_id': 'T6h40a5ad3d8002ad9c06a', 'firstName':...   \n",
            "24  T6hY6sEe       bd99dU7  {'_id': 'Y7sHec', 'firstName': 'Naresh', 'last...   \n",
            "25    H7sT6c        bcWe50  {'_id': 'T6h408981ayf32b63bcfa', 'firstName': ...   \n",
            "26   8Utyd5b       7au8se3  {'_id': 'T6U67af9', 'firstName': 'Govardhan', ...   \n",
            "27  y87Ta5c7      432cT213  {'_id': 'R53Et5W', 'firstName': 'Rajeshwari', ...   \n",
            "28  Ub7S65b7      D3fFr42c  {'_id': 'dE3r$2b5', 'firstName': 'Santosh', 'l...   \n",
            "29   yD7s2d7       7uyT6Rs  {'_id': 'TI93Hd5', 'firstName': 'Tarachand', '...   \n",
            "30   I9Sb4e8        O02n2e  {'_id': 'Pdh97S6', 'phrId': 'Jus0480', 'firstN...   \n",
            "\n",
            "       phoneNumber                                   consultationData  \n",
            "0      96686896670  {'adviceTemplates': [], 'advices': [], 'attach...  \n",
            "1       9496368916  {'adviceTemplates': [], 'advices': [], 'attach...  \n",
            "2       7787204833  {'adviceTemplates': [], 'advices': [], 'attach...  \n",
            "3       9376756879  {'adviceTemplates': [], 'advices': [], 'attach...  \n",
            "4       5267384241  {'adviceTemplates': [], 'advices': [], 'attach...  \n",
            "5    +919826374025  {'adviceTemplates': [], 'advices': [], 'attach...  \n",
            "6       7587265252  {'adviceTemplates': [], 'advices': [], 'attach...  \n",
            "7       5586958767  {'adviceTemplates': [], 'advices': [], 'attach...  \n",
            "8       9987602525  {'adviceTemplates': [], 'advices': [], 'attach...  \n",
            "9       9234354366  {'adviceTemplates': [], 'advices': [], 'attach...  \n",
            "10      4863281056  {'adviceTemplates': [], 'advices': [], 'attach...  \n",
            "11      8687986800  {'adviceTemplates': [], 'advices': [], 'attach...  \n",
            "12                  {'adviceTemplates': [], 'advices': [], 'attach...  \n",
            "13      7152684236  {'labTest': [], 'emrTemplates': [], 'doctorNot...  \n",
            "14                  {'adviceTemplates': [], 'advices': [], 'attach...  \n",
            "15      9184723620  {'adviceTemplates': [], 'advices': [], 'attach...  \n",
            "16                  {'adviceTemplates': [], 'advices': [], 'attach...  \n",
            "17      5847346075  {'adviceTemplates': [], 'advices': [], 'attach...  \n",
            "18      9064537237  {'adviceTemplates': [], 'advices': [], 'attach...  \n",
            "19                  {'adviceTemplates': [], 'advices': [], 'attach...  \n",
            "20       992727892  {'adviceTemplates': [], 'advices': [], 'attach...  \n",
            "21      6888324121  {'adviceTemplates': [], 'advices': [], 'attach...  \n",
            "22      8248594521  {'adviceTemplates': [], 'advices': [], 'attach...  \n",
            "23   +917938475936  {'adviceTemplates': [], 'advices': [], 'attach...  \n",
            "24  +9124648979746  {'adviceTemplates': [], 'advices': [], 'attach...  \n",
            "25   +916883788633  {'adviceTemplates': [], 'advices': [], 'attach...  \n",
            "26   +916636278363  {'adviceTemplates': [], 'advices': [], 'attach...  \n",
            "27      6525356535  {'adviceTemplates': [], 'advices': [], 'attach...  \n",
            "28                  {'adviceTemplates': [], 'advices': [], 'attach...  \n",
            "29   +919093872282  {'adviceTemplates': [], 'advices': [], 'attach...  \n",
            "30   +916888324121  {'adviceTemplates': [], 'advices': [], 'attach...  \n"
          ]
        }
      ]
    },
    {
      "cell_type": "code",
      "source": [
        "import pandas as pd\n",
        "from pandas import json_normalize\n",
        "data = {\n",
        "    '_id': ['T6hf3rb5', 'T65g3rb5', 'T7g6Srb5'],\n",
        "    'appointmentId': ['40d2-9c9f', '40dbtc9f', 'g3Wt5c9f'],\n",
        "    'patientDetails': [\n",
        "        {'_id': 'T6hb630b3', 'firstName': 'Css', 'lastName': 'Smith', 'DOB': ''},\n",
        "        {'_id': 'T6h33b300', 'firstName': '', 'lastName': 'Kumar', 'DOB': '1980-01-01'},\n",
        "        {'_id': 'TjhB4373', 'firstName': 'John', 'lastName': 'Doe', 'DOB': '1990-05-15'}\n",
        "    ],\n",
        "    'phoneNumber': ['96686896670', '9496368916', '7787204833'],\n",
        "    'consultationData': [{'adviceTemplates': [], 'advices': []}, {'adviceTemplates': [], 'advices': []}, {'adviceTemplates': [], 'advices': []}]\n",
        "}\n",
        "\n",
        "df = pd.DataFrame(data)\n",
        "patient_details_df = json_normalize(df['patientDetails'])\n",
        "df = pd.concat([df.drop(columns=['patientDetails']), patient_details_df], axis=1)\n",
        "\n",
        "\n",
        "def missing_percentage(series):\n",
        "\n",
        "    missing_count = series.isna() | (series == '')\n",
        "    return round(missing_count.mean() * 100, 2)\n",
        "\n",
        "\n",
        "columns_of_interest = ['firstName', 'lastName', 'DOB']\n",
        "missing_percentages = {col: missing_percentage(df[col]) for col in columns_of_interest}\n",
        "\n",
        "print(missing_percentages)\n"
      ],
      "metadata": {
        "colab": {
          "base_uri": "https://localhost:8080/"
        },
        "id": "pEVVGrCBSJzg",
        "outputId": "2b4aa426-4f93-4752-c23f-322241e7f28f"
      },
      "execution_count": 12,
      "outputs": [
        {
          "output_type": "stream",
          "name": "stdout",
          "text": [
            "{'firstName': 33.33, 'lastName': 0.0, 'DOB': 33.33}\n"
          ]
        }
      ]
    },
    {
      "cell_type": "code",
      "source": [
        "\n",
        "\n",
        "data = {\n",
        "    '_id': ['T6hf3rb5', 'T65g3rb5', 'T7g6Srb5', 'T8Utyd5b'],\n",
        "    'appointmentId': ['40d2-9c9f', '40dbtc9f', 'g3Wt5c9f', '7au8se3'],\n",
        "    'patientDetails': [\n",
        "        {'_id': 'T6hb630b3', 'firstName': 'Css', 'lastName': 'Smith', 'DOB': '', 'gender': 'Male'},\n",
        "        {'_id': 'T6h33b300', 'firstName': '', 'lastName': 'Kumar', 'DOB': '1980-01-01', 'gender': ''},\n",
        "        {'_id': 'TjhB4373', 'firstName': 'John', 'lastName': 'Doe', 'DOB': '1990-05-15', 'gender': 'Female'},\n",
        "        {'_id': 'T8Utyd5b', 'firstName': 'Rajeshwari', 'lastName': 'Reddy', 'DOB': '1985-03-22', 'gender': ''}\n",
        "    ],\n",
        "    'phoneNumber': ['96686896670', '9496368916', '7787204833', '6525356535'],\n",
        "    'consultationData': [{'adviceTemplates': [], 'advices': []}, {'adviceTemplates': [], 'advices': []}, {'adviceTemplates': [], 'advices': []}, {'adviceTemplates': [], 'advices': []}]\n",
        "}\n",
        "\n",
        "df = pd.DataFrame(data)\n",
        "patient_details_df = pd.json_normalize(df['patientDetails'])\n",
        "df = pd.concat([df.drop(columns=['patientDetails']), patient_details_df], axis=1)\n",
        "mode_gender = df['gender'].mode()[0]\n",
        "\n",
        "df['gender'] = df['gender'].replace('', mode_gender).fillna(mode_gender)\n",
        "\n",
        "female_percentage = (df['gender'] == 'Female').mean() * 100\n",
        "\n",
        "print(f\"Percentage of female gender after imputation: {female_percentage:.2f}%\")\n"
      ],
      "metadata": {
        "colab": {
          "base_uri": "https://localhost:8080/"
        },
        "id": "mc2SqlrCSn4P",
        "outputId": "35ba7ede-c64b-4cd5-e6c0-affa15d86c40"
      },
      "execution_count": 13,
      "outputs": [
        {
          "output_type": "stream",
          "name": "stdout",
          "text": [
            "Percentage of female gender after imputation: 25.00%\n"
          ]
        }
      ]
    },
    {
      "cell_type": "code",
      "source": [
        "\n",
        "data = {\n",
        "    '_id': ['T6hf3rb5', 'T65g3rb5', 'T7g6Srb5', 'T8Utyd5b'],\n",
        "    'appointmentId': ['40d2-9c9f', '40dbtc9f', 'g3Wt5c9f', '7au8se3'],\n",
        "    'patientDetails': [\n",
        "        {'_id': 'T6hb630b3', 'firstName': 'Css', 'lastName': 'Smith', 'DOB': '2010-01-01', 'gender': 'Male'},\n",
        "        {'_id': 'T6h33b300', 'firstName': '', 'lastName': 'Kumar', 'DOB': '2005-01-01', 'gender': 'Male'},\n",
        "        {'_id': 'TjhB4373', 'firstName': 'John', 'lastName': 'Doe', 'DOB': '1990-05-15', 'gender': 'Female'},\n",
        "        {'_id': 'T8Utyd5b', 'firstName': 'Rajeshwari', 'lastName': 'Reddy', 'DOB': '1985-03-22', 'gender': 'Female'}\n",
        "    ],\n",
        "    'phoneNumber': ['96686896670', '9496368916', '7787204833', '6525356535'],\n",
        "    'consultationData': [{'adviceTemplates': [], 'advices': []}, {'adviceTemplates': [], 'advices': []}, {'adviceTemplates': [], 'advices': []}, {'adviceTemplates': [], 'advices': []}]\n",
        "}\n",
        "\n",
        "df = pd.DataFrame(data)\n",
        "\n",
        "\n",
        "patient_details_df = pd.json_normalize(df['patientDetails'])\n",
        "df = pd.concat([df.drop(columns=['patientDetails']), patient_details_df], axis=1)\n",
        "df['DOB'] = pd.to_datetime(df['DOB'], errors='coerce')\n",
        "\n",
        "today = pd.to_datetime('today')\n",
        "df['age'] = (today - df['DOB']).dt.days // 365\n",
        "\n",
        "def categorize_age(age):\n",
        "    if pd.isna(age):\n",
        "        return None\n",
        "    if age <= 12:\n",
        "        return 'Child'\n",
        "    elif 13 <= age <= 19:\n",
        "        return 'Teen'\n",
        "    elif 20 <= age <= 59:\n",
        "        return 'Adult'\n",
        "    else:\n",
        "        return 'Senior'\n",
        "\n",
        "df['ageGroup'] = df['age'].apply(categorize_age)\n",
        "\n",
        "adult_count = df['ageGroup'].value_counts().get('Adult', 0)\n",
        "\n",
        "print(f\"Count of Adult patients: {adult_count}\")\n"
      ],
      "metadata": {
        "colab": {
          "base_uri": "https://localhost:8080/"
        },
        "id": "CzzrrlLES1j3",
        "outputId": "92b2f114-250e-4266-8fdb-e7f1d432ca0a"
      },
      "execution_count": 15,
      "outputs": [
        {
          "output_type": "stream",
          "name": "stdout",
          "text": [
            "Count of Adult patients: 2\n"
          ]
        }
      ]
    },
    {
      "cell_type": "code",
      "source": [
        "\n",
        "data = {\n",
        "    '_id': ['T6hf3rb5', 'T65g3rb5', 'T7g6Srb5', 'T8Utyd5b'],\n",
        "    'appointmentId': ['40d2-9c9f', '40dbtc9f', 'g3Wt5c9f', '7au8se3'],\n",
        "    'patientDetails': [\n",
        "        {'_id': 'T6hb630b3', 'firstName': 'Css', 'lastName': 'Smith', 'DOB': '2010-01-01', 'gender': 'Male'},\n",
        "        {'_id': 'T6h33b300', 'firstName': '', 'lastName': 'Kumar', 'DOB': '2005-01-01', 'gender': 'Male'},\n",
        "        {'_id': 'TjhB4373', 'firstName': 'John', 'lastName': 'Doe', 'DOB': '1990-05-15', 'gender': 'Female'},\n",
        "        {'_id': 'T8Utyd5b', 'firstName': 'Rajeshwari', 'lastName': 'Reddy', 'DOB': '1985-03-22', 'gender': 'Female'}\n",
        "    ],\n",
        "    'consultationData': [\n",
        "        {'medicines': ['MedicineA', 'MedicineB'], 'adviceTemplates': [], 'advices': []},\n",
        "        {'medicines': ['MedicineC'], 'adviceTemplates': [], 'advices': []},\n",
        "        {'medicines': [], 'adviceTemplates': [], 'advices': []},\n",
        "        {'medicines': ['MedicineD', 'MedicineE', 'MedicineF'], 'adviceTemplates': [], 'advices': []}\n",
        "    ]\n",
        "}\n",
        "\n",
        "df = pd.DataFrame(data)\n",
        "consultation_data_df = pd.json_normalize(df['consultationData'])\n",
        "df = pd.concat([df.drop(columns=['consultationData']), consultation_data_df], axis=1)\n",
        "df['num_medicines'] = df['medicines'].apply(lambda x: len(x) if isinstance(x, list) else 0)\n",
        "average_medicines = df['num_medicines'].mean()\n",
        "\n",
        "print(f\"Average number of medicines prescribed: {average_medicines:.2f}\")\n"
      ],
      "metadata": {
        "colab": {
          "base_uri": "https://localhost:8080/"
        },
        "id": "-3Ctq1POS9cS",
        "outputId": "8c7a9420-c227-4e68-d3e8-d4e6ffd79728"
      },
      "execution_count": 16,
      "outputs": [
        {
          "output_type": "stream",
          "name": "stdout",
          "text": [
            "Average number of medicines prescribed: 1.50\n"
          ]
        }
      ]
    },
    {
      "cell_type": "code",
      "source": [
        "import pandas as pd\n",
        "from collections import Counter\n",
        "data = {\n",
        "    '_id': ['T6hf3rb5', 'T65g3rb5', 'T7g6Srb5', 'T8Utyd5b'],\n",
        "    'appointmentId': ['40d2-9c9f', '40dbtc9f', 'g3Wt5c9f', '7au8se3'],\n",
        "    'patientDetails': [\n",
        "        {'_id': 'T6hb630b3', 'firstName': 'Css', 'lastName': 'Smith', 'DOB': '2010-01-01', 'gender': 'Male'},\n",
        "        {'_id': 'T6h33b300', 'firstName': '', 'lastName': 'Kumar', 'DOB': '2005-01-01', 'gender': 'Male'},\n",
        "        {'_id': 'TjhB4373', 'firstName': 'John', 'lastName': 'Doe', 'DOB': '1990-05-15', 'gender': 'Female'},\n",
        "        {'_id': 'T8Utyd5b', 'firstName': 'Rajeshwari', 'lastName': 'Reddy', 'DOB': '1985-03-22', 'gender': 'Female'}\n",
        "    ],\n",
        "    'consultationData': [\n",
        "        {'medicines': ['MedicineA', 'MedicineB'], 'adviceTemplates': [], 'advices': []},\n",
        "        {'medicines': ['MedicineC'], 'adviceTemplates': [], 'advices': []},\n",
        "        {'medicines': [], 'adviceTemplates': [], 'advices': []},\n",
        "        {'medicines': ['MedicineD', 'MedicineE', 'MedicineF'], 'adviceTemplates': [], 'advices': []}\n",
        "    ]\n",
        "}\n",
        "\n",
        "df = pd.DataFrame(data)\n",
        "consultation_data_df = pd.json_normalize(df['consultationData'])\n",
        "df = pd.concat([df.drop(columns=['consultationData']), consultation_data_df], axis=1)\n",
        "all_medicines = [medicine for sublist in df['medicines'] for medicine in sublist]\n",
        "medicine_counts = Counter(all_medicines)\n",
        "medicine_counts_df = pd.DataFrame(medicine_counts.items(), columns=['medicineName', 'count'])\n",
        "medicine_counts_df = medicine_counts_df.sort_values(by='count', ascending=False)\n",
        "if len(medicine_counts_df) >= 3:\n",
        "    third_most_frequent_medicine = medicine_counts_df.iloc[2]['medicineName']\n",
        "else:\n",
        "    third_most_frequent_medicine = None\n",
        "\n",
        "print(f\"3rd most frequently prescribed medicine: {third_most_frequent_medicine}\")\n"
      ],
      "metadata": {
        "colab": {
          "base_uri": "https://localhost:8080/"
        },
        "id": "YI-ydw81TOjG",
        "outputId": "f1e98eab-c094-43e2-9606-02e6cfe8b30a"
      },
      "execution_count": 17,
      "outputs": [
        {
          "output_type": "stream",
          "name": "stdout",
          "text": [
            "3rd most frequently prescribed medicine: MedicineC\n"
          ]
        }
      ]
    },
    {
      "cell_type": "code",
      "source": [
        "data = {\n",
        "    '_id': ['T6hf3rb5', 'T65g3rb5', 'T7g6Srb5', 'T8Utyd5b'],\n",
        "    'appointmentId': ['40d2-9c9f', '40dbtc9f', 'g3Wt5c9f', '7au8se3'],\n",
        "    'consultationData': [\n",
        "        {'medicines': ['MedicineA', 'MedicineB'], 'status': ['Active', 'Inactive']},\n",
        "        {'medicines': ['MedicineC'], 'status': ['Inactive']},\n",
        "        {'medicines': [], 'status': []},\n",
        "        {'medicines': ['MedicineD', 'MedicineE', 'MedicineF'], 'status': ['Active', 'Inactive', 'Inactive']}\n",
        "    ]\n",
        "}\n",
        "\n",
        "df = pd.DataFrame(data)\n",
        "consultation_data_df = pd.json_normalize(df['consultationData'])\n",
        "df = pd.concat([df.drop(columns=['consultationData']), consultation_data_df], axis=1)\n",
        "medicines_list = [medicine for sublist in df['medicines'] for medicine in sublist]\n",
        "statuses_list = [status for sublist in df['status'] for status in sublist]\n",
        "medicines_df = pd.DataFrame({\n",
        "    'medicineName': medicines_list,\n",
        "    'status': statuses_list\n",
        "})\n",
        "\n",
        "status_counts = medicines_df['status'].value_counts()\n",
        "total_medicines = len(medicines_df)\n",
        "active_percentage = (status_counts.get('Active', 0) / total_medicines) * 100\n",
        "inactive_percentage = (status_counts.get('Inactive', 0) / total_medicines) * 100\n",
        "\n",
        "print(f\"Percentage of Active Medicines: {active_percentage:.2f}%\")\n",
        "print(f\"Percentage of Inactive Medicines: {inactive_percentage:.2f}%\")\n"
      ],
      "metadata": {
        "colab": {
          "base_uri": "https://localhost:8080/"
        },
        "id": "rrPMhum7TXlv",
        "outputId": "48ba6ad6-5c96-4293-aa14-2a362a33e3ab"
      },
      "execution_count": 18,
      "outputs": [
        {
          "output_type": "stream",
          "name": "stdout",
          "text": [
            "Percentage of Active Medicines: 33.33%\n",
            "Percentage of Inactive Medicines: 66.67%\n"
          ]
        }
      ]
    },
    {
      "cell_type": "code",
      "source": [
        "\n",
        "data = {\n",
        "    '_id': ['T6hf3rb5', 'T65g3rb5', 'T7g6Srb5', 'T8Utyd5b'],\n",
        "    'appointmentId': ['40d2-9c9f', '40dbtc9f', 'g3Wt5c9f', '7au8se3'],\n",
        "    'phoneNumber': ['+919876787687', '919877475896', '+913454768688', '9876787687']\n",
        "}\n",
        "\n",
        "df = pd.DataFrame(data)\n",
        "\n",
        "def is_valid_phone_number(phone_number):\n",
        "\n",
        "    if phone_number.startswith('+91'):\n",
        "        phone_number = phone_number[3:]\n",
        "    elif phone_number.startswith('91'):\n",
        "        phone_number = phone_number[2:]\n",
        "\n",
        "\n",
        "    if len(phone_number) == 10 and phone_number.isdigit():\n",
        "\n",
        "        number = int(phone_number)\n",
        "        return 6000000000 <= number <= 9999999999\n",
        "\n",
        "    return False\n",
        "\n",
        "df['isValidMobile'] = df['phoneNumber'].apply(is_valid_phone_number)\n",
        "\n",
        "valid_phone_count = df['isValidMobile'].sum()\n",
        "\n",
        "print(df)\n",
        "print(f\"Number of valid phone numbers: {valid_phone_count}\")\n"
      ],
      "metadata": {
        "colab": {
          "base_uri": "https://localhost:8080/"
        },
        "id": "eU8m5NdFTw5H",
        "outputId": "5d302854-7cf5-4daa-b1c4-6e57b8f4b9e9"
      },
      "execution_count": 19,
      "outputs": [
        {
          "output_type": "stream",
          "name": "stdout",
          "text": [
            "        _id appointmentId    phoneNumber  isValidMobile\n",
            "0  T6hf3rb5     40d2-9c9f  +919876787687           True\n",
            "1  T65g3rb5      40dbtc9f   919877475896           True\n",
            "2  T7g6Srb5      g3Wt5c9f  +913454768688          False\n",
            "3  T8Utyd5b       7au8se3     9876787687           True\n",
            "Number of valid phone numbers: 3\n"
          ]
        }
      ]
    },
    {
      "cell_type": "code",
      "source": [
        "\n",
        "data = {\n",
        "    '_id': ['T6hf3rb5', 'T65g3rb5', 'T7g6Srb5', 'T8Utyd5b'],\n",
        "    'appointmentId': ['40d2-9c9f', '40dbtc9f', 'g3Wt5c9f', '7au8se3'],\n",
        "    'patientDetails': [\n",
        "        {'_id': 'T6hb630b3', 'firstName': 'Css', 'lastName': 'Smith', 'DOB': '2010-01-01', 'gender': 'Male'},\n",
        "        {'_id': 'T6h33b300', 'firstName': '', 'lastName': 'Kumar', 'DOB': '2005-01-01', 'gender': 'Male'},\n",
        "        {'_id': 'TjhB4373', 'firstName': 'John', 'lastName': 'Doe', 'DOB': '1990-05-15', 'gender': 'Female'},\n",
        "        {'_id': 'T8Utyd5b', 'firstName': 'Rajeshwari', 'lastName': 'Reddy', 'DOB': '1985-03-22', 'gender': 'Female'}\n",
        "    ],\n",
        "    'consultationData': [\n",
        "        {'medicines': ['MedicineA', 'MedicineB'], 'adviceTemplates': [], 'advices': []},\n",
        "        {'medicines': ['MedicineC'], 'adviceTemplates': [], 'advices': []},\n",
        "        {'medicines': [], 'adviceTemplates': [], 'advices': []},\n",
        "        {'medicines': ['MedicineD', 'MedicineE', 'MedicineF'], 'adviceTemplates': [], 'advices': []}\n",
        "    ]\n",
        "}\n",
        "\n",
        "df = pd.DataFrame(data)\n",
        "patient_details_df = pd.json_normalize(df['patientDetails'])\n",
        "consultation_data_df = pd.json_normalize(df['consultationData'])\n",
        "\n",
        "\n",
        "df = pd.concat([df.drop(columns=['patientDetails', 'consultationData']), patient_details_df, consultation_data_df], axis=1)\n",
        "\n",
        "today = pd.to_datetime('today')\n",
        "df['DOB'] = pd.to_datetime(df['DOB'])\n",
        "df['age'] = (today - df['DOB']).dt.days // 365\n",
        "\n",
        "\n",
        "df['num_medicines'] = df['medicines'].apply(lambda x: len(x) if isinstance(x, list) else 0)\n",
        "\n",
        "\n",
        "correlation = df[['age', 'num_medicines']].corr().iloc[0, 1]\n",
        "\n",
        "print(df)\n",
        "print(f\"Pearson correlation between number of prescribed medicines and age: {correlation:.2f}\")\n"
      ],
      "metadata": {
        "colab": {
          "base_uri": "https://localhost:8080/"
        },
        "id": "l5uqT7IBTxOh",
        "outputId": "91a61b56-0fe1-47df-c1bc-9dcadb8e0c78"
      },
      "execution_count": 21,
      "outputs": [
        {
          "output_type": "stream",
          "name": "stdout",
          "text": [
            "        _id appointmentId        _id   firstName lastName        DOB  gender  \\\n",
            "0  T6hf3rb5     40d2-9c9f  T6hb630b3         Css    Smith 2010-01-01    Male   \n",
            "1  T65g3rb5      40dbtc9f  T6h33b300                Kumar 2005-01-01    Male   \n",
            "2  T7g6Srb5      g3Wt5c9f   TjhB4373        John      Doe 1990-05-15  Female   \n",
            "3  T8Utyd5b       7au8se3   T8Utyd5b  Rajeshwari    Reddy 1985-03-22  Female   \n",
            "\n",
            "                           medicines adviceTemplates advices  age  \\\n",
            "0             [MedicineA, MedicineB]              []      []   14   \n",
            "1                        [MedicineC]              []      []   19   \n",
            "2                                 []              []      []   34   \n",
            "3  [MedicineD, MedicineE, MedicineF]              []      []   39   \n",
            "\n",
            "   num_medicines  \n",
            "0              2  \n",
            "1              1  \n",
            "2              0  \n",
            "3              3  \n",
            "Pearson correlation between number of prescribed medicines and age: 0.11\n"
          ]
        }
      ]
    },
    {
      "cell_type": "code",
      "source": [],
      "metadata": {
        "id": "l76t2ektUGcB"
      },
      "execution_count": null,
      "outputs": []
    }
  ]
}